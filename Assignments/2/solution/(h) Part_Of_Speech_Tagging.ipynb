{
 "cells": [
  {
   "cell_type": "markdown",
   "metadata": {},
   "source": [
    "# (h) POS Tagging"
   ]
  },
  {
   "cell_type": "markdown",
   "metadata": {},
   "source": [
    "## Importing libraries"
   ]
  },
  {
   "cell_type": "code",
   "execution_count": 1,
   "metadata": {},
   "outputs": [
    {
     "name": "stderr",
     "output_type": "stream",
     "text": [
      "[nltk_data] Downloading package brown to\n",
      "[nltk_data]     /Users/sumeetmishra/nltk_data...\n",
      "[nltk_data]   Package brown is already up-to-date!\n",
      "[nltk_data] Downloading package punkt to\n",
      "[nltk_data]     /Users/sumeetmishra/nltk_data...\n",
      "[nltk_data]   Package punkt is already up-to-date!\n"
     ]
    }
   ],
   "source": [
    "import nltk\n",
    "nltk.download('brown')\n",
    "from nltk import word_tokenize\n",
    "nltk.download('punkt')\n",
    "from nltk.corpus import brown\n",
    "from collections import Counter\n",
    "from collections import defaultdict\n",
    "from nltk.util import ngrams"
   ]
  },
  {
   "cell_type": "markdown",
   "metadata": {},
   "source": [
    "## Tokenize the input sentense"
   ]
  },
  {
   "cell_type": "code",
   "execution_count": 2,
   "metadata": {},
   "outputs": [],
   "source": [
    "words = word_tokenize(\"time flies like an arrow\")\n",
    "#words=word_tokenize(\"there is no evidence from the investigation\")"
   ]
  },
  {
   "cell_type": "markdown",
   "metadata": {},
   "source": [
    "## Generating tokenTags and Tagtags from Brown Corpus"
   ]
  },
  {
   "cell_type": "code",
   "execution_count": 3,
   "metadata": {},
   "outputs": [],
   "source": [
    "tokens, tags = zip(*brown.tagged_words())\n",
    "tagCounter = Counter(tags)\n",
    "tokenCounter = Counter(tokens)\n",
    "tokenTags = defaultdict(Counter)\n",
    "for token, tag in brown.tagged_words():\n",
    "    tokenTags[token][tag] +=1\n",
    "tagTags = defaultdict(Counter)   \n",
    "posBigrams = list(ngrams(tags, 2))\n",
    "for tag1, tag2 in posBigrams:\n",
    "    tagTags[tag1][tag2] += 1"
   ]
  },
  {
   "cell_type": "markdown",
   "metadata": {},
   "source": [
    "## Generating the first tag of the first word from the input sentence"
   ]
  },
  {
   "cell_type": "code",
   "execution_count": 4,
   "metadata": {},
   "outputs": [],
   "source": [
    "import operator\n",
    "fst_tag=max(tokenTags[words[0]].items(), key=operator.itemgetter(1))[0]"
   ]
  },
  {
   "cell_type": "markdown",
   "metadata": {},
   "source": [
    "## Defining the result matrix to append the results"
   ]
  },
  {
   "cell_type": "code",
   "execution_count": 5,
   "metadata": {},
   "outputs": [],
   "source": [
    "result=[]\n",
    "result.append((words[0],fst_tag))"
   ]
  },
  {
   "cell_type": "markdown",
   "metadata": {},
   "source": [
    "## Defining function for generating the second tag"
   ]
  },
  {
   "cell_type": "code",
   "execution_count": 6,
   "metadata": {},
   "outputs": [],
   "source": [
    "def second_tag(first_tag,word,s):\n",
    "    f_tag=first_tag\n",
    "    a=sorted(tagTags[f_tag], key=lambda k: tokenTags[f_tag][0], reverse=True)\n",
    "    for i in range(0,len(a)):\n",
    "        if i==0:\n",
    "            se_tag=a[i]\n",
    "            z=tokenTags[word][se_tag] / tagCounter[se_tag]\n",
    "            y=tagTags[f_tag][se_tag] / tagCounter[f_tag]\n",
    "            x=z*y\n",
    "        else:\n",
    "            se_tag1=a[i]\n",
    "            z1=tokenTags[word][se_tag1] / tagCounter[se_tag1]\n",
    "            y1=tagTags[f_tag][se_tag1] / tagCounter[f_tag]\n",
    "            x1=z1*y1\n",
    "            if x1>x:\n",
    "                se_tag=se_tag1\n",
    "                y=y1\n",
    "                z=z1\n",
    "                x=x1\n",
    "    return (se_tag,x) "
   ]
  },
  {
   "cell_type": "markdown",
   "metadata": {},
   "source": [
    "## Looping over the input sentence to find word,tag pair based on maximum probability"
   ]
  },
  {
   "cell_type": "code",
   "execution_count": 7,
   "metadata": {},
   "outputs": [],
   "source": [
    "k=1\n",
    "s=0\n",
    "for i in range(1,len(words)):\n",
    "    c,s1=second_tag(fst_tag,words[k],s)\n",
    "    result.append((words[k],c))\n",
    "    k+=1\n",
    "    s=s1\n",
    "    fst_tag=c"
   ]
  },
  {
   "cell_type": "markdown",
   "metadata": {},
   "source": [
    "## Printing the result array"
   ]
  },
  {
   "cell_type": "code",
   "execution_count": 8,
   "metadata": {},
   "outputs": [
    {
     "name": "stdout",
     "output_type": "stream",
     "text": [
      "The final result was found to be: [('time', 'NN'), ('flies', 'VBZ'), ('like', 'CS'), ('an', 'AT'), ('arrow', 'NN')]\n"
     ]
    }
   ],
   "source": [
    "print(\"The final result was found to be:\", result)"
   ]
  }
 ],
 "metadata": {
  "kernelspec": {
   "display_name": "Python 3",
   "language": "python",
   "name": "python3"
  },
  "language_info": {
   "codemirror_mode": {
    "name": "ipython",
    "version": 3
   },
   "file_extension": ".py",
   "mimetype": "text/x-python",
   "name": "python",
   "nbconvert_exporter": "python",
   "pygments_lexer": "ipython3",
   "version": "3.7.3"
  }
 },
 "nbformat": 4,
 "nbformat_minor": 2
}
