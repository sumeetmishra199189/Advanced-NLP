{
 "cells": [
  {
   "cell_type": "markdown",
   "metadata": {},
   "source": [
    "## 1. Hidden Markov Model"
   ]
  },
  {
   "cell_type": "raw",
   "metadata": {},
   "source": [
    "a)\n",
    "\n",
    "The question is to decrypt Ucpcpc to Banana. The observed states are U,c,p,c,p,c \n",
    "and that is the emissions for B,a,n,a,n,a.\n",
    "\n",
    "The HMM will look like-\n",
    "B-U\n",
    "|\n",
    "A-C\n",
    "|\n",
    "N-P\n",
    "|\n",
    "A-C\n",
    "|\n",
    "N-P\n",
    "|\n",
    "A-C\n",
    "\n",
    "We can see that the encrption used C for A,U for B and P for N. We can assume that it is substituting \n",
    "a different and unique letter for the given letter. So it is safe to assume we can have 26 such states \n",
    "for each alphabet.  "
   ]
  },
  {
   "cell_type": "raw",
   "metadata": {},
   "source": [
    "b)\n",
    "If we use a well trained HMM model, the conditional probilities should be close to 1(or 1) \n",
    "for (observed state|given state) and close to 0(or 0) for all other unobseved state. For example-\n",
    "P(A|C)~=1 whereas P(B|C)~=0\n"
   ]
  },
  {
   "cell_type": "raw",
   "metadata": {},
   "source": [
    "c)\n",
    "For the above problem it is not needed to use a trigram model instead of bigram as the problem is a \n",
    "simple substitution of alphabets. \n",
    "Advantages of using trigram model is that it handles complex problems more accurately as it takes \n",
    "previous state into consideration.\n",
    "Disadvantages of using trigram model is that since it calculates previous states it increases computational time \n",
    "that's why it is not recommended to use where the current state does not depend on previous states.\n"
   ]
  },
  {
   "cell_type": "markdown",
   "metadata": {},
   "source": [
    "## 2. Forward/Backward Algorithm"
   ]
  },
  {
   "cell_type": "raw",
   "metadata": {},
   "source": [
    "initial vector:  [ 0.45  0.35  0.15  0.05 ]\n",
    "\n",
    "transition matrix:\n",
    "\n",
    "t / t+1\t DT\t      JJ\t NN\t     VB\n",
    "DT\t    0.03\t 0.42\t0.50\t0.05\n",
    "JJ\t    0.01\t 0.25\t0.65\t0.09\n",
    "NN\t    0.07\t 0.03\t0.15\t0.75\n",
    "VB\t    0.30\t 0.25\t0.15\t0.30\n",
    "\n",
    "emission matrix:\n",
    "\n",
    "w / s\t DT\t     JJ\t     NN\t     VB\n",
    "a\t    0.84\t0.05\t0.03\t0.05\n",
    "myth\t0.01\t0.10\t0.45\t0.10\n",
    "is\t    0.02\t0.02\t0.02\t0.60\n",
    "female\t0.01\t0.70\t0.25\t0.05\n",
    "moth\t0.12\t0.13\t0.25\t0.20"
   ]
  },
  {
   "cell_type": "code",
   "execution_count": 1,
   "metadata": {},
   "outputs": [],
   "source": [
    "import numpy as np\n",
    "init_vec = [0.45,0.35,0.15,0.05]\n",
    "trans_mat = [[0.03,0.42,0.50,0.05],[0.01,0.25,0.65,0.09],[0.07,0.03,0.15,0.75],[0.30,0.25,0.15,0.30]]\n",
    "emission_mat = [[0.84,0.05,0.03,0.05],[0.01,0.10,0.45,0.10],[0.02,0.02,0.02,0.60],[0.01,0.70,0.25,0.05],[0.12,0.13,0.25,0.20]]"
   ]
  },
  {
   "cell_type": "code",
   "execution_count": 2,
   "metadata": {},
   "outputs": [],
   "source": [
    "a1 = np.multiply(init_vec,emission_mat[0]) \n",
    "q= [0,0,0,0]\n",
    "\n",
    "trans_mat = np.array(trans_mat)\n",
    "\n",
    "def forward_algo(input1,index):\n",
    "    for i in range(len(input1)):\n",
    "        p = (np.multiply(input1,trans_mat.T[i]))\n",
    "        q[i] = p.sum()\n",
    "\n",
    "    result = np.multiply(q,emission_mat[index])\n",
    "    return result\n",
    "\n",
    "a2 = forward_algo(a1,1)\n",
    "a3 = forward_algo(a2,2)\n",
    "a4 = forward_algo(a3,0)\n",
    "a5 = forward_algo(a4,3)\n",
    "a6 = forward_algo(a5,4)\n"
   ]
  },
  {
   "cell_type": "code",
   "execution_count": 3,
   "metadata": {},
   "outputs": [
    {
     "name": "stdout",
     "output_type": "stream",
     "text": [
      "a4(NN)= 0.00019685617823999994\n"
     ]
    }
   ],
   "source": [
    "# The order is DT=0,JJ=1,NN=2,VB=3\n",
    "#a)\n",
    "print('a4(NN)=',a4[2])"
   ]
  },
  {
   "cell_type": "code",
   "execution_count": 4,
   "metadata": {},
   "outputs": [
    {
     "name": "stdout",
     "output_type": "stream",
     "text": [
      "a3(VB)= 0.04212016949999999\n"
     ]
    }
   ],
   "source": [
    "#b)\n",
    "print('a3(VB)=',a3[3])"
   ]
  },
  {
   "cell_type": "code",
   "execution_count": 5,
   "metadata": {},
   "outputs": [
    {
     "name": "stdout",
     "output_type": "stream",
     "text": [
      "a1(DT)= 0.378\n"
     ]
    }
   ],
   "source": [
    "#c)\n",
    "print('a1(DT)=',a1[0])"
   ]
  },
  {
   "cell_type": "code",
   "execution_count": 6,
   "metadata": {},
   "outputs": [],
   "source": [
    "b6 = np.multiply([1,1,1,1],emission_mat[4]) \n",
    "q= [0,0,0,0]\n",
    "def backward_algo(input1,index):\n",
    "    for i in range(len(input1)):\n",
    "        p = (np.multiply(input1,trans_mat[i]))\n",
    "        q[i] = p.sum()\n",
    "\n",
    "    result = np.multiply(q,emission_mat[index])\n",
    "    return result\n",
    "\n",
    "b5 = backward_algo(b6,3)\n",
    "b4 = backward_algo(b5,0)\n",
    "b3 = backward_algo(b4,2)\n",
    "b2 = backward_algo(b3,1)\n",
    "b1 = backward_algo(b2,0)"
   ]
  },
  {
   "cell_type": "code",
   "execution_count": 7,
   "metadata": {},
   "outputs": [
    {
     "name": "stdout",
     "output_type": "stream",
     "text": [
      "b4(NN)= 0.0005505282000000001\n"
     ]
    }
   ],
   "source": [
    "#d)\n",
    "print('b4(NN)=',b4[2])"
   ]
  },
  {
   "cell_type": "code",
   "execution_count": 8,
   "metadata": {},
   "outputs": [
    {
     "name": "stdout",
     "output_type": "stream",
     "text": [
      "b2(NN)= 0.00486677460100194\n"
     ]
    }
   ],
   "source": [
    " #e)\n",
    "print('b2(NN)=',b2[2])"
   ]
  }
 ],
 "metadata": {
  "kernelspec": {
   "display_name": "Python 3",
   "language": "python",
   "name": "python3"
  },
  "language_info": {
   "codemirror_mode": {
    "name": "ipython",
    "version": 3
   },
   "file_extension": ".py",
   "mimetype": "text/x-python",
   "name": "python",
   "nbconvert_exporter": "python",
   "pygments_lexer": "ipython3",
   "version": "3.7.3"
  }
 },
 "nbformat": 4,
 "nbformat_minor": 2
}
